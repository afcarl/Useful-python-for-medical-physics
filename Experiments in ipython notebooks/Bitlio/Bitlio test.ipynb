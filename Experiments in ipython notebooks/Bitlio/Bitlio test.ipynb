{
 "cells": [
  {
   "cell_type": "markdown",
   "metadata": {},
   "source": [
    "https://github.com/whaleygeek/bitio"
   ]
  },
  {
   "cell_type": "code",
   "execution_count": 1,
   "metadata": {},
   "outputs": [
    {
     "name": "stdout",
     "output_type": "stream",
     "text": [
      "connecting...\n",
      "Your micro:bit has been detected\n",
      "Now running your program\n"
     ]
    }
   ],
   "source": [
    "import microbit\n",
    "import time"
   ]
  },
  {
   "cell_type": "code",
   "execution_count": 2,
   "metadata": {
    "collapsed": true
   },
   "outputs": [],
   "source": [
    "microbit.display.show(50)"
   ]
  },
  {
   "cell_type": "code",
   "execution_count": 3,
   "metadata": {
    "collapsed": true
   },
   "outputs": [],
   "source": [
    "microbit.display.scroll(\"Hello\")"
   ]
  },
  {
   "cell_type": "code",
   "execution_count": 4,
   "metadata": {},
   "outputs": [],
   "source": [
    "for i in range(100):\n",
    "        if microbit.button_a.was_pressed():\n",
    "            microbit.display.show(\"A\")\n",
    "            microbit.sleep(500)\n",
    "            microbit.display.clear()"
   ]
  },
  {
   "cell_type": "code",
   "execution_count": 5,
   "metadata": {},
   "outputs": [
    {
     "name": "stdout",
     "output_type": "stream",
     "text": [
      "(192, 16, -992)\n",
      "(192, 16, -992)\n",
      "(176, 16, -992)\n",
      "(288, 208, -1008)\n",
      "(-16, -112, -1648)\n",
      "(-416, -208, 848)\n",
      "(-512, -256, 992)\n",
      "(-784, -400, 32)\n",
      "(-80, 560, -880)\n",
      "(688, 752, -208)\n",
      "(592, 896, 64)\n",
      "(400, 656, -672)\n",
      "(-32, -464, -896)\n",
      "(-816, -464, 160)\n",
      "(-976, -48, 352)\n",
      "(-944, -192, 48)\n",
      "(48, 240, -288)\n",
      "(496, 864, -912)\n",
      "(384, 384, -1072)\n",
      "(384, 192, -896)\n",
      "(528, 96, -832)\n",
      "(544, 0, -848)\n",
      "(560, 0, -848)\n",
      "(544, 0, -848)\n",
      "(560, 0, -848)\n",
      "(544, 0, -848)\n",
      "(544, 0, -848)\n",
      "(544, 0, -848)\n",
      "(544, 0, -848)\n",
      "(544, 0, -848)\n",
      "(544, 0, -848)\n",
      "(544, 0, -848)\n",
      "(544, 0, -848)\n",
      "(544, 0, -848)\n",
      "(544, 0, -848)\n",
      "(544, 0, -848)\n",
      "(544, 0, -848)\n",
      "(544, 0, -848)\n",
      "(544, 0, -848)\n",
      "(544, 0, -848)\n",
      "(544, 0, -848)\n",
      "(544, 0, -848)\n",
      "(544, 16, -848)\n",
      "(544, 0, -848)\n",
      "(544, 0, -848)\n",
      "(544, 0, -864)\n",
      "(544, 0, -848)\n",
      "(544, 0, -864)\n",
      "(544, 0, -864)\n",
      "(544, 0, -848)\n",
      "(544, 0, -848)\n",
      "(528, 0, -864)\n",
      "(528, 0, -848)\n",
      "(544, 0, -864)\n",
      "(528, 0, -848)\n",
      "(528, 0, -848)\n",
      "(544, 0, -864)\n",
      "(544, 0, -864)\n",
      "(544, 0, -864)\n",
      "(528, 0, -848)\n",
      "(544, 0, -864)\n",
      "(528, 0, -864)\n",
      "(544, 0, -864)\n",
      "(528, 0, -848)\n",
      "(528, 0, -864)\n",
      "(528, 0, -864)\n",
      "(528, 0, -864)\n",
      "(528, 0, -864)\n",
      "(528, 0, -864)\n",
      "(528, 0, -864)\n",
      "(528, 0, -864)\n",
      "(528, 0, -864)\n",
      "(528, 0, -864)\n",
      "(544, 0, -864)\n",
      "(528, 0, -864)\n",
      "(528, 0, -864)\n",
      "(528, 0, -864)\n",
      "(544, 0, -864)\n",
      "(528, 0, -864)\n",
      "(528, 0, -864)\n",
      "(528, 0, -864)\n",
      "(528, 0, -864)\n",
      "(528, 0, -864)\n",
      "(528, 0, -864)\n",
      "(528, 0, -864)\n",
      "(528, 0, -864)\n",
      "(528, 0, -864)\n",
      "(528, 0, -864)\n",
      "(528, 0, -864)\n",
      "(528, 0, -864)\n",
      "(528, 0, -864)\n",
      "(528, 0, -864)\n",
      "(528, 0, -864)\n",
      "(528, 0, -864)\n",
      "(528, 0, -864)\n",
      "(528, 0, -864)\n",
      "(528, 0, -864)\n",
      "(528, 0, -864)\n",
      "(528, 0, -864)\n",
      "(528, 0, -864)\n"
     ]
    }
   ],
   "source": [
    "for i in range(100):\n",
    "    print(microbit.accelerometer.get_values())\n",
    "    microbit.sleep(250)"
   ]
  },
  {
   "cell_type": "code",
   "execution_count": null,
   "metadata": {
    "collapsed": true
   },
   "outputs": [],
   "source": []
  }
 ],
 "metadata": {
  "anaconda-cloud": {},
  "kernelspec": {
   "display_name": "Python [conda root]",
   "language": "python",
   "name": "conda-root-py"
  },
  "language_info": {
   "codemirror_mode": {
    "name": "ipython",
    "version": 3
   },
   "file_extension": ".py",
   "mimetype": "text/x-python",
   "name": "python",
   "nbconvert_exporter": "python",
   "pygments_lexer": "ipython3",
   "version": "3.5.3"
  }
 },
 "nbformat": 4,
 "nbformat_minor": 1
}
