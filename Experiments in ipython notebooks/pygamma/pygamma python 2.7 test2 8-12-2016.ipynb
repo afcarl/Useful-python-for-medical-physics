{
 "cells": [
  {
   "cell_type": "markdown",
   "metadata": {},
   "source": [
    "https://github.com/christopherpoole/pygamma   for code. Only code required is algorithms.py which I have placed in the working folder. This is in python 2.7\n",
    "\n",
    "https://www.ncbi.nlm.nih.gov/pmc/articles/PMC3532748/  for publication"
   ]
  },
  {
   "cell_type": "code",
   "execution_count": 1,
   "metadata": {
    "collapsed": false
   },
   "outputs": [
    {
     "name": "stdout",
     "output_type": "stream",
     "text": [
      "2.7.12 |Continuum Analytics, Inc.| (default, Jun 29 2016, 11:42:13) [MSC v.1500 32 bit (Intel)]\n"
     ]
    }
   ],
   "source": [
    "import sys\n",
    "print(sys.version)"
   ]
  },
  {
   "cell_type": "code",
   "execution_count": 2,
   "metadata": {
    "collapsed": false
   },
   "outputs": [],
   "source": [
    "import numpy as np\n",
    "#import pylab\n",
    "import matplotlib.pyplot as plt\n",
    "%matplotlib inline \n",
    "\n",
    "import dicom\n",
    "from algorithms import gamma_evaluation "
   ]
  },
  {
   "cell_type": "code",
   "execution_count": 3,
   "metadata": {
    "collapsed": true
   },
   "outputs": [],
   "source": [
    "dcm_ref = dicom.read_file(\"Case7_dose_AAA.dcm\")\n",
    "dcm_evl = dicom.read_file(\"Case7_dose_Dm.dcm\")"
   ]
  },
  {
   "cell_type": "code",
   "execution_count": 4,
   "metadata": {
    "collapsed": true
   },
   "outputs": [],
   "source": [
    "def load_dose_from_dicom(dcm):\n",
    "    \"\"\"Imports the dose in matplotlib format, with the following index mapping:\n",
    "        i = y\n",
    "        j = x\n",
    "        k = z\n",
    "    \n",
    "    Therefore when using this function to have the coords match the same order,\n",
    "    ie. coords_reference = (y, x, z)\n",
    "    \"\"\"\n",
    "    pixels = np.transpose(\n",
    "        dcm.pixel_array, (1, 2, 0))\n",
    "    dose = pixels * dcm.DoseGridScaling\n",
    "\n",
    "    return dose"
   ]
  },
  {
   "cell_type": "code",
   "execution_count": 10,
   "metadata": {
    "collapsed": false
   },
   "outputs": [
    {
     "name": "stdout",
     "output_type": "stream",
     "text": [
      "(107, 192, 135)\n",
      "(108, 193, 135)\n"
     ]
    }
   ],
   "source": [
    "dose_reference = load_dose_from_dicom(dcm_ref)\n",
    "print dose_reference.shape\n",
    "\n",
    "dose_evaluation = load_dose_from_dicom(dcm_evl)\n",
    "print dose_evaluation.shape"
   ]
  },
  {
   "cell_type": "code",
   "execution_count": 11,
   "metadata": {
    "collapsed": true
   },
   "outputs": [],
   "source": [
    "?gamma_evaluation"
   ]
  },
  {
   "cell_type": "code",
   "execution_count": 13,
   "metadata": {
    "collapsed": false
   },
   "outputs": [
    {
     "ename": "AssertionError",
     "evalue": "`sample` and `reference` dimensions must equal `resolution` length",
     "output_type": "error",
     "traceback": [
      "\u001b[0;31m---------------------------------------------------------------------------\u001b[0m",
      "\u001b[0;31mAssertionError\u001b[0m                            Traceback (most recent call last)",
      "\u001b[0;32m<ipython-input-13-02ffa43f0f48>\u001b[0m in \u001b[0;36m<module>\u001b[0;34m()\u001b[0m\n\u001b[1;32m      1\u001b[0m \u001b[0;31m# Perform gamma evaluation at 4mm, 2%, resoution x=2, y=1\u001b[0m\u001b[0;34m\u001b[0m\u001b[0;34m\u001b[0m\u001b[0m\n\u001b[0;32m----> 2\u001b[0;31m \u001b[0mgamma_map\u001b[0m \u001b[0;34m=\u001b[0m \u001b[0mgamma_evaluation\u001b[0m\u001b[0;34m(\u001b[0m\u001b[0mdose_evaluation\u001b[0m\u001b[0;34m,\u001b[0m \u001b[0mdose_reference\u001b[0m\u001b[0;34m,\u001b[0m \u001b[0;36m4.\u001b[0m\u001b[0;34m,\u001b[0m \u001b[0;36m2.\u001b[0m\u001b[0;34m,\u001b[0m \u001b[0;34m(\u001b[0m\u001b[0;36m2\u001b[0m\u001b[0;34m,\u001b[0m \u001b[0;36m1\u001b[0m\u001b[0;34m)\u001b[0m\u001b[0;34m,\u001b[0m \u001b[0msigned\u001b[0m\u001b[0;34m=\u001b[0m\u001b[0mTrue\u001b[0m\u001b[0;34m)\u001b[0m\u001b[0;34m\u001b[0m\u001b[0m\n\u001b[0m\u001b[1;32m      3\u001b[0m \u001b[0;34m\u001b[0m\u001b[0m\n\u001b[1;32m      4\u001b[0m \u001b[0mplt\u001b[0m\u001b[0;34m.\u001b[0m\u001b[0mimshow\u001b[0m\u001b[0;34m(\u001b[0m\u001b[0mgamma_map\u001b[0m\u001b[0;34m,\u001b[0m \u001b[0mcmap\u001b[0m\u001b[0;34m=\u001b[0m\u001b[0;34m'RdBu_r'\u001b[0m\u001b[0;34m)\u001b[0m \u001b[0;31m# aspect=2, vmin=-2, vmax=2\u001b[0m\u001b[0;34m\u001b[0m\u001b[0m\n\u001b[1;32m      5\u001b[0m \u001b[0mplt\u001b[0m\u001b[0;34m.\u001b[0m\u001b[0mcolorbar\u001b[0m\u001b[0;34m(\u001b[0m\u001b[0;34m)\u001b[0m\u001b[0;34m\u001b[0m\u001b[0m\n",
      "\u001b[0;32mC:\\Users\\RCole02.ROYALSURREY\\Desktop\\GitHub\\Useful-python-for-medical-physics\\Experiments in ipython notebooks\\Archive\\pygamma\\algorithms.pyc\u001b[0m in \u001b[0;36mgamma_evaluation\u001b[0;34m(sample, reference, distance, threshold, resolution, signed)\u001b[0m\n\u001b[1;32m     60\u001b[0m     \u001b[0mndim\u001b[0m \u001b[0;34m=\u001b[0m \u001b[0mlen\u001b[0m\u001b[0;34m(\u001b[0m\u001b[0mresolution\u001b[0m\u001b[0;34m)\u001b[0m\u001b[0;34m\u001b[0m\u001b[0m\n\u001b[1;32m     61\u001b[0m     \u001b[0;32massert\u001b[0m \u001b[0msample\u001b[0m\u001b[0;34m.\u001b[0m\u001b[0mndim\u001b[0m \u001b[0;34m==\u001b[0m \u001b[0mreference\u001b[0m\u001b[0;34m.\u001b[0m\u001b[0mndim\u001b[0m \u001b[0;34m==\u001b[0m \u001b[0mndim\u001b[0m\u001b[0;34m,\u001b[0m\u001b[0;31m \u001b[0m\u001b[0;31m\\\u001b[0m\u001b[0;34m\u001b[0m\u001b[0m\n\u001b[0;32m---> 62\u001b[0;31m         \u001b[0;34m\"`sample` and `reference` dimensions must equal `resolution` length\"\u001b[0m\u001b[0;34m\u001b[0m\u001b[0m\n\u001b[0m\u001b[1;32m     63\u001b[0m     \u001b[0;32massert\u001b[0m \u001b[0msample\u001b[0m\u001b[0;34m.\u001b[0m\u001b[0mshape\u001b[0m \u001b[0;34m==\u001b[0m \u001b[0mreference\u001b[0m\u001b[0;34m.\u001b[0m\u001b[0mshape\u001b[0m\u001b[0;34m,\u001b[0m\u001b[0;31m \u001b[0m\u001b[0;31m\\\u001b[0m\u001b[0;34m\u001b[0m\u001b[0m\n\u001b[1;32m     64\u001b[0m         \u001b[0;34m\"`sample` and `reference` must have the same shape\"\u001b[0m\u001b[0;34m\u001b[0m\u001b[0m\n",
      "\u001b[0;31mAssertionError\u001b[0m: `sample` and `reference` dimensions must equal `resolution` length"
     ]
    }
   ],
   "source": [
    "# Perform gamma evaluation at 4mm, 2%, resoution x=2, y=1\n",
    "gamma_map = gamma_evaluation(dose_evaluation, dose_reference, 4., 2., (2, 1), signed=True)\n",
    "\n",
    "plt.imshow(gamma_map, cmap='RdBu_r') # aspect=2, vmin=-2, vmax=2\n",
    "plt.colorbar()\n",
    "plt.show()"
   ]
  },
  {
   "cell_type": "code",
   "execution_count": null,
   "metadata": {
    "collapsed": false
   },
   "outputs": [],
   "source": [
    "# Two subplots, unpack the axes array immediately\n",
    "f, (ax1, ax2, ax3) = plt.subplots(1, 3, sharey=True)\n",
    "\n",
    "ax1.imshow(reference)\n",
    "ax1.set_title('reference')\n",
    "\n",
    "ax2.imshow(sample)\n",
    "ax2.set_title('sample')\n",
    "\n",
    "ax3.imshow(gamma_map, cmap='RdBu_r', aspect=2, vmin=-2, vmax=2)\n",
    "ax3.set_title('gamma_map')\n",
    "plt.show()"
   ]
  },
  {
   "cell_type": "markdown",
   "metadata": {},
   "source": [
    "Now to load real data"
   ]
  }
 ],
 "metadata": {
  "kernelspec": {
   "display_name": "Python [conda env:dicompyler2_7]",
   "language": "python",
   "name": "conda-env-dicompyler2_7-py"
  },
  "language_info": {
   "codemirror_mode": {
    "name": "ipython",
    "version": 2
   },
   "file_extension": ".py",
   "mimetype": "text/x-python",
   "name": "python",
   "nbconvert_exporter": "python",
   "pygments_lexer": "ipython2",
   "version": "2.7.12"
  }
 },
 "nbformat": 4,
 "nbformat_minor": 1
}
