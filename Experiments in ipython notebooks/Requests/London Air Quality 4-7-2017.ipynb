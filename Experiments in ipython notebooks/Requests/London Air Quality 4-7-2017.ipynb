{
 "cells": [
  {
   "cell_type": "markdown",
   "metadata": {},
   "source": [
    "https://www.londonair.org.uk/LondonAir/API/"
   ]
  },
  {
   "cell_type": "code",
   "execution_count": 1,
   "metadata": {
    "collapsed": true
   },
   "outputs": [],
   "source": [
    "import requests\n",
    "import json\n",
    "import pprint\n",
    "\n",
    "def print_json(json_data):\n",
    "    pprint.PrettyPrinter().pprint(json_data)"
   ]
  },
  {
   "cell_type": "markdown",
   "metadata": {},
   "source": [
    "# Single site"
   ]
  },
  {
   "cell_type": "code",
   "execution_count": 2,
   "metadata": {
    "collapsed": false
   },
   "outputs": [
    {
     "data": {
      "text/plain": [
       "'http://api.erg.kcl.ac.uk/AirQuality/Hourly/MonitoringIndex/SiteCode=KT4/Json'"
      ]
     },
     "execution_count": 2,
     "metadata": {},
     "output_type": "execute_result"
    }
   ],
   "source": [
    "SiteCode = 'KT4'\n",
    "url = 'http://api.erg.kcl.ac.uk/AirQuality/Hourly/MonitoringIndex/SiteCode={}/Json'.format(SiteCode)\n",
    "url"
   ]
  },
  {
   "cell_type": "code",
   "execution_count": 3,
   "metadata": {
    "collapsed": true
   },
   "outputs": [],
   "source": [
    "response = requests.get(url).json()  # get the response object"
   ]
  },
  {
   "cell_type": "code",
   "execution_count": 4,
   "metadata": {
    "collapsed": false
   },
   "outputs": [
    {
     "name": "stdout",
     "output_type": "stream",
     "text": [
      "{'HourlyAirQualityIndex': {'@TimeToLive': '45',\n",
      "                           'LocalAuthority': {'@LaCentreLatitude': '51.412317',\n",
      "                                              '@LaCentreLatitudeWGS84': '6694554.466476',\n",
      "                                              '@LaCentreLongitude': '-0.300443',\n",
      "                                              '@LaCentreLongitudeWGS84': '-33445.161772',\n",
      "                                              '@LocalAuthorityCode': '21',\n",
      "                                              '@LocalAuthorityName': 'Kingston',\n",
      "                                              'Site': {'@BulletinDate': '2017-07-04 '\n",
      "                                                                        '03:00:00',\n",
      "                                                       '@Latitude': '51.379312',\n",
      "                                                       '@LatitudeWGS84': '6688665.88821522',\n",
      "                                                       '@Longitude': '-0.281259',\n",
      "                                                       '@LongitudeWGS84': '-31309.6086610253',\n",
      "                                                       '@SiteCode': 'KT4',\n",
      "                                                       '@SiteName': 'Kingston '\n",
      "                                                                    'Upon '\n",
      "                                                                    'Thames - '\n",
      "                                                                    'Tolworth '\n",
      "                                                                    'Broadway',\n",
      "                                                       '@SiteType': 'Roadside',\n",
      "                                                       'species': [{'@AirQualityBand': 'Low',\n",
      "                                                                    '@AirQualityIndex': '1',\n",
      "                                                                    '@IndexSource': 'Measurement',\n",
      "                                                                    '@SpeciesCode': 'NO2',\n",
      "                                                                    '@SpeciesName': 'Nitrogen '\n",
      "                                                                                    'Dioxide'},\n",
      "                                                                   {'@AirQualityBand': 'Low',\n",
      "                                                                    '@AirQualityIndex': '1',\n",
      "                                                                    '@IndexSource': 'Trigger',\n",
      "                                                                    '@SpeciesCode': 'PM10',\n",
      "                                                                    '@SpeciesName': 'PM10 '\n",
      "                                                                                    'Particulate'}]}}}}\n"
     ]
    }
   ],
   "source": [
    "print_json(response)"
   ]
  },
  {
   "cell_type": "code",
   "execution_count": 5,
   "metadata": {
    "collapsed": false
   },
   "outputs": [],
   "source": [
    "base = response['HourlyAirQualityIndex']['LocalAuthority']['Site']"
   ]
  },
  {
   "cell_type": "code",
   "execution_count": 6,
   "metadata": {
    "collapsed": false
   },
   "outputs": [
    {
     "data": {
      "text/plain": [
       "'Kingston Upon Thames - Tolworth Broadway'"
      ]
     },
     "execution_count": 6,
     "metadata": {},
     "output_type": "execute_result"
    }
   ],
   "source": [
    "base['@SiteName']"
   ]
  },
  {
   "cell_type": "code",
   "execution_count": 7,
   "metadata": {
    "collapsed": false
   },
   "outputs": [
    {
     "name": "stdout",
     "output_type": "stream",
     "text": [
      "*****\n",
      "Nitrogen Dioxide\n",
      "1\n",
      "Low\n",
      "*****\n",
      "PM10 Particulate\n",
      "1\n",
      "Low\n"
     ]
    }
   ],
   "source": [
    "for species in base['species']:\n",
    "    print('*****')\n",
    "    print(species['@SpeciesName'])\n",
    "    print(species['@AirQualityIndex'])\n",
    "    print(species['@AirQualityBand'])"
   ]
  },
  {
   "cell_type": "markdown",
   "metadata": {},
   "source": [
    "# All sites"
   ]
  },
  {
   "cell_type": "code",
   "execution_count": 10,
   "metadata": {
    "collapsed": true
   },
   "outputs": [],
   "source": [
    "url = 'http://api.erg.kcl.ac.uk/AirQuality/Hourly/MonitoringIndex/GroupName=London/Json'\n",
    "response = requests.get(url).json()  # get the response object"
   ]
  },
  {
   "cell_type": "code",
   "execution_count": 26,
   "metadata": {
    "collapsed": false
   },
   "outputs": [
    {
     "name": "stdout",
     "output_type": "stream",
     "text": [
      "33\n",
      "Barking and Dagenham\n",
      "Barnet\n",
      "Bexley\n",
      "Brent\n",
      "Bromley\n",
      "Camden\n",
      "City of London\n",
      "Croydon\n",
      "Ealing\n",
      "Enfield\n",
      "Greenwich\n",
      "Hackney\n",
      "Hammersmith and Fulham\n",
      "Haringey\n",
      "Harrow\n",
      "Havering\n",
      "Hillingdon\n",
      "Hounslow\n",
      "Islington\n",
      "Kensington and Chelsea\n",
      "Kingston\n",
      "Lambeth\n",
      "Lewisham\n",
      "Merton\n",
      "Newham\n",
      "Redbridge\n",
      "Richmond\n",
      "Southwark\n",
      "Sutton\n",
      "Tower Hamlets\n",
      "Waltham Forest\n",
      "Wandsworth\n",
      "Westminster\n"
     ]
    }
   ],
   "source": [
    "base = response['HourlyAirQualityIndex']['LocalAuthority']\n",
    "print(len(base))   # 33 sites\n",
    "\n",
    "for authority in base:\n",
    "    print(authority['@LocalAuthorityName'])"
   ]
  },
  {
   "cell_type": "code",
   "execution_count": 30,
   "metadata": {
    "collapsed": false
   },
   "outputs": [
    {
     "name": "stdout",
     "output_type": "stream",
     "text": [
      "8\n",
      "Bexley - Belvedere West\n",
      "Bexley - Belvedere West FDMS\n",
      "Bexley - Belvedere FDMS\n",
      "Bexley - Slade Green\n",
      "Bexley - Belvedere\n",
      "Bexley - Slade Green FDMS\n",
      "Greenwich and Bexley - Falconwood FDMS\n",
      "Greenwich and Bexley - Falconwood\n"
     ]
    }
   ],
   "source": [
    "print(len(base[2]['Site']))   # there are 8 sites\n",
    "for site in base[2]['Site']:\n",
    "    print(site['@SiteName'])"
   ]
  },
  {
   "cell_type": "code",
   "execution_count": 31,
   "metadata": {
    "collapsed": false
   },
   "outputs": [
    {
     "data": {
      "text/plain": [
       "{'@BulletinDate': '2017-07-04 03:00:00',\n",
       " '@Latitude': '51.4946486813055',\n",
       " '@LatitudeWGS84': '6709278.28804',\n",
       " '@Longitude': '0.137279111232178',\n",
       " '@LongitudeWGS84': '14951.9364255',\n",
       " '@SiteCode': 'BQ7',\n",
       " '@SiteName': 'Bexley - Belvedere West',\n",
       " '@SiteType': 'Urban Background',\n",
       " 'Species': [{'@AirQualityBand': 'Low',\n",
       "   '@AirQualityIndex': '1',\n",
       "   '@IndexSource': 'Measurement',\n",
       "   '@SpeciesCode': 'NO2',\n",
       "   '@SpeciesDescription': 'Nitrogen Dioxide'},\n",
       "  {'@AirQualityBand': 'Low',\n",
       "   '@AirQualityIndex': '2',\n",
       "   '@IndexSource': 'Measurement',\n",
       "   '@SpeciesCode': 'O3',\n",
       "   '@SpeciesDescription': 'Ozone'},\n",
       "  {'@AirQualityBand': 'Low',\n",
       "   '@AirQualityIndex': '1',\n",
       "   '@IndexSource': 'Trigger',\n",
       "   '@SpeciesCode': 'PM10',\n",
       "   '@SpeciesDescription': 'PM10 Particulate'}]}"
      ]
     },
     "execution_count": 31,
     "metadata": {},
     "output_type": "execute_result"
    }
   ],
   "source": [
    "base[2]['Site'][0]"
   ]
  },
  {
   "cell_type": "code",
   "execution_count": 34,
   "metadata": {
    "collapsed": false
   },
   "outputs": [
    {
     "name": "stdout",
     "output_type": "stream",
     "text": [
      "******\n",
      "Nitrogen Dioxide\n",
      "1\n",
      "Low\n",
      "******\n",
      "Ozone\n",
      "2\n",
      "Low\n",
      "******\n",
      "PM10 Particulate\n",
      "1\n",
      "Low\n"
     ]
    }
   ],
   "source": [
    "for species in base[2]['Site'][0]['Species']:\n",
    "    print('******')\n",
    "    print(species['@SpeciesDescription'])\n",
    "    print(species['@AirQualityIndex'])\n",
    "    print(species['@AirQualityBand'])   "
   ]
  },
  {
   "cell_type": "markdown",
   "metadata": {
    "collapsed": true
   },
   "source": [
    "# Make a class"
   ]
  },
  {
   "cell_type": "code",
   "execution_count": 8,
   "metadata": {
    "collapsed": true
   },
   "outputs": [],
   "source": [
    "# Class will return dict of attributes of form\n",
    "\n",
    "attributes = {'LocalAuthorityName': 'Kingston', \n",
    "              'SiteCode': 'KT4',\n",
    "              'SiteName': 'Kingston upon thames',\n",
    "              '@BulletinDate': '2017-07-04 03:00:00',              # Will be sensor state\n",
    "              'species': [\n",
    "        {'@AirQualityBand': 'Low',\n",
    "         '@AirQualityIndex': '1',\n",
    "         '@IndexSource': 'Trigger',\n",
    "         '@SpeciesCode': 'PM10',\n",
    "         '@SpeciesName': 'PM10 Particulate'}\n",
    "    ]}"
   ]
  },
  {
   "cell_type": "code",
   "execution_count": null,
   "metadata": {
    "collapsed": true
   },
   "outputs": [],
   "source": []
  }
 ],
 "metadata": {
  "anaconda-cloud": {},
  "kernelspec": {
   "display_name": "Python [conda root]",
   "language": "python",
   "name": "conda-root-py"
  },
  "language_info": {
   "codemirror_mode": {
    "name": "ipython",
    "version": 3
   },
   "file_extension": ".py",
   "mimetype": "text/x-python",
   "name": "python",
   "nbconvert_exporter": "python",
   "pygments_lexer": "ipython3",
   "version": "3.5.2"
  }
 },
 "nbformat": 4,
 "nbformat_minor": 1
}
