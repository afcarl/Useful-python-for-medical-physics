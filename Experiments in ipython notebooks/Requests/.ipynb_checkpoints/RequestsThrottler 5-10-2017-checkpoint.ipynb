{
 "cells": [
  {
   "cell_type": "markdown",
   "metadata": {},
   "source": [
    "https://github.com/se7entyse7en/requests-throttler\n",
    "\n",
    "With RequestsThrottler you can easily throttle HTTP requests! After having created your throttler with a delay of your choice, you just have to:\n",
    "\n",
    "* Start the throttler\n",
    "* Submit your requests\n",
    "* Shutdown the throttler"
   ]
  },
  {
   "cell_type": "code",
   "execution_count": 1,
   "metadata": {},
   "outputs": [
    {
     "name": "stderr",
     "output_type": "stream",
     "text": [
      "[Thread=MainThread - 2017-10-05 06:58:27,197 - INFO]: Starting base throttler 'base-throttler'...\n",
      "[Thread=<concurrent.futures.thread.ThreadPoolExecutor object at 0x107238ac8>_0 - 2017-10-05 06:58:27,200 - INFO]: Starting main loop...\n",
      "[Thread=MainThread - 2017-10-05 06:58:27,200 - INFO]: Submitting request to base throttler (url: http://www.google.com)...\n",
      "[Thread=<concurrent.futures.thread.ThreadPoolExecutor object at 0x107238ac8>_0 - 2017-10-05 06:58:27,201 - INFO]: Start waiting for new requests...\n",
      "[Thread=MainThread - 2017-10-05 06:58:27,209 - INFO]: Submitting request to base throttler (url: http://www.google.com)...\n",
      "[Thread=<concurrent.futures.thread.ThreadPoolExecutor object at 0x107238ac8>_0 - 2017-10-05 06:58:27,209 - INFO]: Awakening...\n",
      "[Thread=<concurrent.futures.thread.ThreadPoolExecutor object at 0x107238ac8>_0 - 2017-10-05 06:58:27,211 - INFO]: Sending request (url: http://www.google.com/)...\n",
      "[Thread=MainThread - 2017-10-05 06:58:27,212 - INFO]: Submitting request to base throttler (url: http://www.google.com)...\n",
      "[Thread=MainThread - 2017-10-05 06:58:27,216 - INFO]: Submitting request to base throttler (url: http://www.google.com)...\n",
      "[Thread=MainThread - 2017-10-05 06:58:27,218 - INFO]: Submitting request to base throttler (url: http://www.google.com)...\n",
      "[Thread=<concurrent.futures.thread.ThreadPoolExecutor object at 0x107238ac8>_0 - 2017-10-05 06:58:28,907 - INFO]: Request sent! (url: http://www.google.com/)\n",
      "[Thread=<concurrent.futures.thread.ThreadPoolExecutor object at 0x107238ac8>_0 - 2017-10-05 06:58:28,910 - INFO]: Sending request (url: http://www.google.com/)...\n",
      "[Thread=<concurrent.futures.thread.ThreadPoolExecutor object at 0x107238ac8>_0 - 2017-10-05 06:58:30,107 - INFO]: Request sent! (url: http://www.google.com/)\n",
      "[Thread=<concurrent.futures.thread.ThreadPoolExecutor object at 0x107238ac8>_0 - 2017-10-05 06:58:30,412 - INFO]: Sending request (url: http://www.google.com/)...\n",
      "[Thread=<concurrent.futures.thread.ThreadPoolExecutor object at 0x107238ac8>_0 - 2017-10-05 06:58:31,662 - INFO]: Request sent! (url: http://www.google.com/)\n",
      "[Thread=<concurrent.futures.thread.ThreadPoolExecutor object at 0x107238ac8>_0 - 2017-10-05 06:58:31,913 - INFO]: Sending request (url: http://www.google.com/)...\n",
      "[Thread=<concurrent.futures.thread.ThreadPoolExecutor object at 0x107238ac8>_0 - 2017-10-05 06:58:32,992 - INFO]: Request sent! (url: http://www.google.com/)\n",
      "[Thread=<concurrent.futures.thread.ThreadPoolExecutor object at 0x107238ac8>_0 - 2017-10-05 06:58:33,418 - INFO]: Sending request (url: http://www.google.com/)...\n",
      "[Thread=<concurrent.futures.thread.ThreadPoolExecutor object at 0x107238ac8>_0 - 2017-10-05 06:58:34,092 - INFO]: Request sent! (url: http://www.google.com/)\n",
      "[Thread=<concurrent.futures.thread.ThreadPoolExecutor object at 0x107238ac8>_0 - 2017-10-05 06:58:34,095 - INFO]: Exited from main loop.\n"
     ]
    }
   ],
   "source": [
    "import requests\n",
    "from requests_throttler import BaseThrottler\n",
    "\n",
    "bt = BaseThrottler(name='base-throttler', delay=1.5)\n",
    "request = requests.Request(method='GET', url='http://www.google.com')\n",
    "reqs = [request for i in range(0, 5)]\n",
    "\n",
    "bt.start()\n",
    "throttled_requests = bt.multi_submit(reqs)\n",
    "bt.shutdown()\n",
    "\n",
    "responses = [tr.response for tr in throttled_requests]"
   ]
  },
  {
   "cell_type": "markdown",
   "metadata": {},
   "source": [
    "Note sure this is compatible with HA"
   ]
  },
  {
   "cell_type": "code",
   "execution_count": null,
   "metadata": {
    "collapsed": true
   },
   "outputs": [],
   "source": []
  }
 ],
 "metadata": {
  "kernelspec": {
   "display_name": "Python 3",
   "language": "python",
   "name": "python3"
  },
  "language_info": {
   "codemirror_mode": {
    "name": "ipython",
    "version": 3
   },
   "file_extension": ".py",
   "mimetype": "text/x-python",
   "name": "python",
   "nbconvert_exporter": "python",
   "pygments_lexer": "ipython3",
   "version": "3.6.2"
  }
 },
 "nbformat": 4,
 "nbformat_minor": 2
}
