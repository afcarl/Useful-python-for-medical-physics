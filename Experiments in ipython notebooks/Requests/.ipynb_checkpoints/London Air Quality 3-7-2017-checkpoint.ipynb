{
 "cells": [
  {
   "cell_type": "markdown",
   "metadata": {},
   "source": [
    "https://www.londonair.org.uk/LondonAir/API/"
   ]
  },
  {
   "cell_type": "code",
   "execution_count": 8,
   "metadata": {
    "collapsed": true
   },
   "outputs": [],
   "source": [
    "import requests\n",
    "import json\n",
    "import pprint\n",
    "\n",
    "def print_json(json_data):\n",
    "    pprint.PrettyPrinter().pprint(json_data)"
   ]
  },
  {
   "cell_type": "code",
   "execution_count": 2,
   "metadata": {
    "collapsed": false
   },
   "outputs": [
    {
     "data": {
      "text/plain": [
       "'http://api.erg.kcl.ac.uk/AirQuality/Hourly/MonitoringIndex/SiteCode=KT4/Json'"
      ]
     },
     "execution_count": 2,
     "metadata": {},
     "output_type": "execute_result"
    }
   ],
   "source": [
    "SiteCode = 'KT4'\n",
    "url = 'http://api.erg.kcl.ac.uk/AirQuality/Hourly/MonitoringIndex/SiteCode={}/Json'.format(SiteCode)\n",
    "url"
   ]
  },
  {
   "cell_type": "code",
   "execution_count": 5,
   "metadata": {
    "collapsed": true
   },
   "outputs": [],
   "source": [
    "response = requests.get(url).json()  # get the response object"
   ]
  },
  {
   "cell_type": "code",
   "execution_count": 9,
   "metadata": {
    "collapsed": false
   },
   "outputs": [
    {
     "name": "stdout",
     "output_type": "stream",
     "text": [
      "{'HourlyAirQualityIndex': {'@TimeToLive': '59',\n",
      "                           'LocalAuthority': {'@LaCentreLatitude': '51.412317',\n",
      "                                              '@LaCentreLatitudeWGS84': '6694554.466476',\n",
      "                                              '@LaCentreLongitude': '-0.300443',\n",
      "                                              '@LaCentreLongitudeWGS84': '-33445.161772',\n",
      "                                              '@LocalAuthorityCode': '21',\n",
      "                                              '@LocalAuthorityName': 'Kingston',\n",
      "                                              'Site': {'@BulletinDate': '2017-07-03 '\n",
      "                                                                        '14:00:00',\n",
      "                                                       '@Latitude': '51.379312',\n",
      "                                                       '@LatitudeWGS84': '6688665.88821522',\n",
      "                                                       '@Longitude': '-0.281259',\n",
      "                                                       '@LongitudeWGS84': '-31309.6086610253',\n",
      "                                                       '@SiteCode': 'KT4',\n",
      "                                                       '@SiteName': 'Kingston '\n",
      "                                                                    'Upon '\n",
      "                                                                    'Thames - '\n",
      "                                                                    'Tolworth '\n",
      "                                                                    'Broadway',\n",
      "                                                       '@SiteType': 'Roadside',\n",
      "                                                       'species': [{'@AirQualityBand': 'Low',\n",
      "                                                                    '@AirQualityIndex': '1',\n",
      "                                                                    '@IndexSource': 'Measurement',\n",
      "                                                                    '@SpeciesCode': 'NO2',\n",
      "                                                                    '@SpeciesName': 'Nitrogen '\n",
      "                                                                                    'Dioxide'},\n",
      "                                                                   {'@AirQualityBand': 'Low',\n",
      "                                                                    '@AirQualityIndex': '2',\n",
      "                                                                    '@IndexSource': 'Trigger',\n",
      "                                                                    '@SpeciesCode': 'PM10',\n",
      "                                                                    '@SpeciesName': 'PM10 '\n",
      "                                                                                    'Particulate'}]}}}}\n"
     ]
    }
   ],
   "source": [
    "print_json(response)"
   ]
  },
  {
   "cell_type": "code",
   "execution_count": 10,
   "metadata": {
    "collapsed": false
   },
   "outputs": [],
   "source": [
    "base = response['HourlyAirQualityIndex']['LocalAuthority']['Site']"
   ]
  },
  {
   "cell_type": "code",
   "execution_count": 11,
   "metadata": {
    "collapsed": false
   },
   "outputs": [
    {
     "data": {
      "text/plain": [
       "'Kingston Upon Thames - Tolworth Broadway'"
      ]
     },
     "execution_count": 11,
     "metadata": {},
     "output_type": "execute_result"
    }
   ],
   "source": [
    "base['@SiteName']"
   ]
  },
  {
   "cell_type": "code",
   "execution_count": 13,
   "metadata": {
    "collapsed": false
   },
   "outputs": [
    {
     "name": "stdout",
     "output_type": "stream",
     "text": [
      "*****\n",
      "Nitrogen Dioxide\n",
      "1\n",
      "Low\n",
      "*****\n",
      "PM10 Particulate\n",
      "2\n",
      "Low\n"
     ]
    }
   ],
   "source": [
    "for species in base['species']:\n",
    "    print('*****')\n",
    "    print(species['@SpeciesName'])\n",
    "    print(species['@AirQualityIndex'])\n",
    "    print(species['@AirQualityBand'])"
   ]
  },
  {
   "cell_type": "code",
   "execution_count": null,
   "metadata": {
    "collapsed": true
   },
   "outputs": [],
   "source": []
  }
 ],
 "metadata": {
  "anaconda-cloud": {},
  "kernelspec": {
   "display_name": "Python [conda root]",
   "language": "python",
   "name": "conda-root-py"
  },
  "language_info": {
   "codemirror_mode": {
    "name": "ipython",
    "version": 3
   },
   "file_extension": ".py",
   "mimetype": "text/x-python",
   "name": "python",
   "nbconvert_exporter": "python",
   "pygments_lexer": "ipython3",
   "version": "3.5.2"
  }
 },
 "nbformat": 4,
 "nbformat_minor": 1
}
