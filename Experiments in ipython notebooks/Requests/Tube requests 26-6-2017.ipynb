{
 "cells": [
  {
   "cell_type": "markdown",
   "metadata": {},
   "source": [
    "Check the status of tube lines\n",
    "\n",
    "http://docs.python-requests.org/en/master/\n",
    "\n",
    "http://docs.python-requests.org/en/master/user/quickstart/#make-a-request Tutorial\n",
    "\n",
    "https://github.com/timcnicholls/transport_api_demo/blob/master/harwell_wantage_bus.py"
   ]
  },
  {
   "cell_type": "code",
   "execution_count": 2,
   "metadata": {
    "collapsed": true
   },
   "outputs": [],
   "source": [
    "import requests\n",
    "import json\n",
    "import pprint"
   ]
  },
  {
   "cell_type": "code",
   "execution_count": 4,
   "metadata": {},
   "outputs": [],
   "source": [
    "url = 'https://api.tfl.gov.uk/line/mode/tube/status'\n",
    "r = requests.get(url)  # get the response object\n",
    "\n",
    "response = r\n",
    "filename = 'tube_state.json'\n",
    "\n",
    "with open(filename, 'wb') as fd:                 # write the response to file. Can format the .json file but no blank lines allowed \n",
    "    for chunk in response.iter_content(chunk_size=128):\n",
    "        fd.write(chunk)"
   ]
  },
  {
   "cell_type": "code",
   "execution_count": 6,
   "metadata": {
    "collapsed": true
   },
   "outputs": [],
   "source": [
    "def print_json(json_data):\n",
    "    pprint.PrettyPrinter().pprint(json_data)"
   ]
  },
  {
   "cell_type": "code",
   "execution_count": 21,
   "metadata": {},
   "outputs": [
    {
     "name": "stdout",
     "output_type": "stream",
     "text": [
      "{'$type': 'Tfl.Api.Presentation.Entities.Line, Tfl.Api.Presentation.Entities',\n",
      " 'created': '2017-05-12T15:17:55.5Z',\n",
      " 'crowding': {'$type': 'Tfl.Api.Presentation.Entities.Crowding, '\n",
      "                       'Tfl.Api.Presentation.Entities'},\n",
      " 'disruptions': [],\n",
      " 'id': 'bakerloo',\n",
      " 'lineStatuses': [{'$type': 'Tfl.Api.Presentation.Entities.LineStatus, '\n",
      "                            'Tfl.Api.Presentation.Entities',\n",
      "                   'created': '0001-01-01T00:00:00',\n",
      "                   'id': 0,\n",
      "                   'statusSeverity': 10,\n",
      "                   'statusSeverityDescription': 'Good Service',\n",
      "                   'validityPeriods': []}],\n",
      " 'modeName': 'tube',\n",
      " 'modified': '2017-05-12T15:17:55.5Z',\n",
      " 'name': 'Bakerloo',\n",
      " 'routeSections': [],\n",
      " 'serviceTypes': [{'$type': 'Tfl.Api.Presentation.Entities.LineServiceTypeInfo, '\n",
      "                            'Tfl.Api.Presentation.Entities',\n",
      "                   'name': 'Regular',\n",
      "                   'uri': '/Line/Route?ids=Bakerloo&serviceTypes=Regular'}]}\n"
     ]
    }
   ],
   "source": [
    "bakerloo_dict = r.json()[0]\n",
    "print_json(bakerloo_dict)"
   ]
  },
  {
   "cell_type": "code",
   "execution_count": 29,
   "metadata": {},
   "outputs": [
    {
     "data": {
      "text/plain": [
       "dict_keys(['id', '$type', 'name', 'disruptions', 'serviceTypes', 'lineStatuses', 'routeSections', 'modified', 'modeName', 'created', 'crowding'])"
      ]
     },
     "execution_count": 29,
     "metadata": {},
     "output_type": "execute_result"
    }
   ],
   "source": [
    "bakerloo_dict.keys()"
   ]
  },
  {
   "cell_type": "code",
   "execution_count": 33,
   "metadata": {},
   "outputs": [
    {
     "data": {
      "text/plain": [
       "dict_keys(['id', '$type', 'statusSeverity', 'statusSeverityDescription', 'created', 'validityPeriods'])"
      ]
     },
     "execution_count": 33,
     "metadata": {},
     "output_type": "execute_result"
    }
   ],
   "source": [
    "bakerloo_dict['lineStatuses'][0].keys()"
   ]
  },
  {
   "cell_type": "code",
   "execution_count": 34,
   "metadata": {},
   "outputs": [
    {
     "data": {
      "text/plain": [
       "'Good Service'"
      ]
     },
     "execution_count": 34,
     "metadata": {},
     "output_type": "execute_result"
    }
   ],
   "source": [
    "bakerloo_dict['lineStatuses'][0]['statusSeverityDescription']"
   ]
  },
  {
   "cell_type": "code",
   "execution_count": 39,
   "metadata": {},
   "outputs": [
    {
     "data": {
      "text/plain": [
       "['bakerloo',\n",
       " 'central',\n",
       " 'circle',\n",
       " 'district',\n",
       " 'hammersmith-city',\n",
       " 'jubilee',\n",
       " 'metropolitan',\n",
       " 'northern',\n",
       " 'piccadilly',\n",
       " 'victoria',\n",
       " 'waterloo-city']"
      ]
     },
     "execution_count": 39,
     "metadata": {},
     "output_type": "execute_result"
    }
   ],
   "source": [
    "lines = [line['id'] for line in r.json()]\n",
    "lines"
   ]
  },
  {
   "cell_type": "code",
   "execution_count": 40,
   "metadata": {},
   "outputs": [
    {
     "data": {
      "text/plain": [
       "['Good Service',\n",
       " 'Good Service',\n",
       " 'Good Service',\n",
       " 'Good Service',\n",
       " 'Good Service',\n",
       " 'Good Service',\n",
       " 'Good Service',\n",
       " 'Good Service',\n",
       " 'Good Service',\n",
       " 'Good Service',\n",
       " 'Good Service']"
      ]
     },
     "execution_count": 40,
     "metadata": {},
     "output_type": "execute_result"
    }
   ],
   "source": [
    "statuses = [line['lineStatuses'][0]['statusSeverityDescription'] for line in r.json()]\n",
    "statuses"
   ]
  },
  {
   "cell_type": "markdown",
   "metadata": {},
   "source": [
    "Use a comprehension \n",
    "\n",
    " {value:key for key, value in a_dict.items()}"
   ]
  },
  {
   "cell_type": "code",
   "execution_count": 43,
   "metadata": {
    "collapsed": true
   },
   "outputs": [],
   "source": [
    "line_statuses =  {key:value for key, value in zip(lines, statuses)}"
   ]
  },
  {
   "cell_type": "code",
   "execution_count": 44,
   "metadata": {},
   "outputs": [
    {
     "data": {
      "text/plain": [
       "dict_keys(['waterloo-city', 'piccadilly', 'central', 'bakerloo', 'district', 'hammersmith-city', 'metropolitan', 'jubilee', 'victoria', 'circle', 'northern'])"
      ]
     },
     "execution_count": 44,
     "metadata": {},
     "output_type": "execute_result"
    }
   ],
   "source": [
    "line_statuses.keys()"
   ]
  },
  {
   "cell_type": "code",
   "execution_count": 45,
   "metadata": {},
   "outputs": [
    {
     "data": {
      "text/plain": [
       "'Good Service'"
      ]
     },
     "execution_count": 45,
     "metadata": {},
     "output_type": "execute_result"
    }
   ],
   "source": [
    "line_statuses['district']"
   ]
  },
  {
   "cell_type": "code",
   "execution_count": 47,
   "metadata": {},
   "outputs": [
    {
     "data": {
      "text/plain": [
       "'Good Service'"
      ]
     },
     "execution_count": 47,
     "metadata": {},
     "output_type": "execute_result"
    }
   ],
   "source": [
    "# convenience function to get dict of statuses\n",
    "def tube_statuses():\n",
    "    url = 'https://api.tfl.gov.uk/line/mode/tube/status'\n",
    "    r = requests.get(url)  # get the response object\n",
    "    lines = [line['id'] for line in r.json()]\n",
    "    statuses = [line['lineStatuses'][0]['statusSeverityDescription'] for line in r.json()]\n",
    "    return {key:value for key, value in zip(lines, statuses)}\n",
    "\n",
    "\n",
    "tube_statuses()['piccadilly']"
   ]
  },
  {
   "cell_type": "markdown",
   "metadata": {},
   "source": [
    "Could wrap in a class with a method for updating and another for returning line oof interest"
   ]
  },
  {
   "cell_type": "code",
   "execution_count": null,
   "metadata": {
    "collapsed": true
   },
   "outputs": [],
   "source": []
  }
 ],
 "metadata": {
  "anaconda-cloud": {},
  "kernelspec": {
   "display_name": "Python [conda root]",
   "language": "python",
   "name": "conda-root-py"
  },
  "language_info": {
   "codemirror_mode": {
    "name": "ipython",
    "version": 3
   },
   "file_extension": ".py",
   "mimetype": "text/x-python",
   "name": "python",
   "nbconvert_exporter": "python",
   "pygments_lexer": "ipython3",
   "version": "3.5.2"
  }
 },
 "nbformat": 4,
 "nbformat_minor": 1
}
